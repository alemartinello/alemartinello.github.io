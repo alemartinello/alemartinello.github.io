{
  "cells": [
    {
      "cell_type": "markdown",
      "metadata": {},
      "source": [
        "# Notebook generating plot(s) for blog post on gender gap\n",
        "\n",
        "Start by getting data on hourly wages by gender over time"
      ],
      "id": "2dea4ef5-b2ab-45fc-8c93-7ce2a61ca8c8"
    },
    {
      "cell_type": "code",
      "execution_count": 8,
      "metadata": {},
      "outputs": [],
      "source": [
        "# Simulate\n",
        "from dstapi import DstApi\n",
        "import seaborn as sns\n",
        "import matplotlib.pyplot as plt\n",
        "\n",
        "lon = DstApi(\"LONS20\")\n",
        "params = {'table': 'lons20',\n",
        " 'format': 'BULK',\n",
        " 'lang': 'da',\n",
        " 'variables': [{'code': 'ARBF', 'values': ['TOT']},\n",
        "  {'code': 'SEKTOR', 'values': ['1046']},\n",
        "  {'code': 'AFLOEN', 'values': ['TIFA']},\n",
        "  {'code': 'LONGRP', 'values': ['LTOT']},\n",
        "  {'code': 'LØNMÅL', 'values': ['STAND']},\n",
        "  {'code': 'KØN', 'values': ['M', 'K']},\n",
        "  {'code': 'Tid', 'values': ['*']}]}\n",
        "\n",
        "df = lon.get_data(params=params)[[\"KØN\", \"TID\", \"INDHOLD\"]]\n"
      ],
      "id": "cell-2"
    },
    {
      "cell_type": "markdown",
      "metadata": {},
      "source": [
        "Plot"
      ],
      "id": "1e947494-5672-430d-bf99-ea0374af883f"
    },
    {
      "cell_type": "code",
      "execution_count": null,
      "metadata": {},
      "outputs": [
        {
          "output_type": "display_data",
          "metadata": {},
          "data": {}
        }
      ],
      "source": [
        "import seaborn as sns\n",
        "import matplotlib.pyplot as plt\n",
        "\n",
        "fig, ax = plt.subplots(figsize=(8, 5))\n",
        "\n",
        "kvcolor = \"#E75480\"\n",
        "mdcolor = \"#4682B4\"\n",
        "\n",
        "sns.lineplot(\n",
        "    x=\"TID\", y=\"INDHOLD\", hue=\"KØN\", data=df,\n",
        "    palette={\"Kvinder\": kvcolor, \"Mænd\": mdcolor},\n",
        "    legend=False, ax=ax\n",
        "    )\n",
        "\n",
        "plt.xticks(df[\"TID\"].unique())\n",
        "\n",
        "kvinder_val = df.loc[(df[\"KØN\"] == \"Kvinder\") & (df[\"TID\"] == df[\"TID\"].max()), \"INDHOLD\"].values[0]\n",
        "maend_val = df.loc[(df[\"KØN\"] == \"Mænd\") & (df[\"TID\"] == df[\"TID\"].max()), \"INDHOLD\"].values[0]\n",
        "diff = 100*(kvinder_val - maend_val)/(maend_val) \n",
        "\n",
        "plt.annotate(\n",
        "  f\"{diff:.0f}%\",\n",
        "  xy=(df[\"TID\"].max(), (kvinder_val + maend_val)/2),\n",
        "  xytext=(df[\"TID\"].max() + 0.1,\n",
        "  (kvinder_val + maend_val)/2),\n",
        "  )\n",
        "\n",
        "plt.plot([df[\"TID\"].max(), df[\"TID\"].max()], [kvinder_val, maend_val], lw=0.5, ls='--', color='black')\n",
        "\n",
        "plt.xlabel(\"\")\n",
        "plt.ylabel(\"\")\n",
        "\n",
        "plt.ylim(210, 330)\n",
        "\n",
        "sns.despine()\n",
        "plt.show()"
      ],
      "id": "cell-fig-gender-gap-basic"
    }
  ],
  "nbformat": 4,
  "nbformat_minor": 5,
  "metadata": {
    "kernelspec": {
      "name": "python3",
      "display_name": ".venv",
      "language": "python"
    },
    "language_info": {
      "name": "python",
      "codemirror_mode": {
        "name": "ipython",
        "version": "3"
      },
      "file_extension": ".py",
      "mimetype": "text/x-python",
      "nbconvert_exporter": "python",
      "pygments_lexer": "ipython3",
      "version": "3.10.15"
    }
  }
}